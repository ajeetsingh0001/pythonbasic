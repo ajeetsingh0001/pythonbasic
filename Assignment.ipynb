{
  "nbformat": 4,
  "nbformat_minor": 0,
  "metadata": {
    "colab": {
      "provenance": []
    },
    "kernelspec": {
      "name": "python3",
      "display_name": "Python 3"
    },
    "language_info": {
      "name": "python"
    }
  },
  "cells": [
    {
      "cell_type": "markdown",
      "source": [
        " #python basic question"
      ],
      "metadata": {
        "id": "cpc53Yba0aYo"
      }
    },
    {
      "cell_type": "markdown",
      "source": [],
      "metadata": {
        "id": "PHA-OCqIQNf5"
      }
    },
    {
      "cell_type": "markdown",
      "source": [],
      "metadata": {
        "id": "q1FJdLurQCYN"
      }
    },
    {
      "cell_type": "markdown",
      "source": [],
      "metadata": {
        "id": "4z2AcR7Q5zLl"
      }
    },
    {
      "cell_type": "markdown",
      "source": [
        "1. What is Python, and why is it popular\n",
        "\n",
        " ->  Python is a high-level, general-purpose programming language known for its simplicity and readability. It was created by Guido van Rossum and first released in 1991.\n",
        "\n",
        "It’s popular for a few big reasons:\n",
        "\n",
        "Easy to learn and use: Python’s syntax is very clean, almost like English, making it great for beginners and pros alike.\n",
        "Versatile: You can use Python for web development, data science, AI and machine learning, scripting, automation, game development, and more.\n",
        "Massive libraries and frameworks: Libraries like NumPy, Pandas, TensorFlow, Django, and Flask save tons of time.\n",
        "Huge community: Tons of tutorials, support forums, and open-source projects make it easier to find help or collaborate.\n",
        "Cross-platform: Python runs on Windows, macOS, Linux — almost everywhere.\n",
        "Good for rapid development: It lets you quickly build and test prototypes without too much setup."
      ],
      "metadata": {
        "id": "OglEbscH0zUz"
      }
    },
    {
      "cell_type": "markdown",
      "source": [],
      "metadata": {
        "id": "MY-NuVbp6Pma"
      }
    },
    {
      "cell_type": "markdown",
      "source": [
        "2.What is an interpreter in Python\n",
        "\n",
        "-> An **interpreter** in Python is a program that **reads and executes Python code line by line** instead of compiling it all at once like in some other languages (like C++ or Java).\n",
        "\n",
        "Here’s a simple way to think about it:\n",
        "- You write Python code (.py file).\n",
        "- The **Python interpreter** (like python3) reads each line, **translates it to machine code**, and **executes it immediately**.\n",
        "- If it hits an error, it stops right there and shows you the error.\n",
        "\n",
        "Because it’s interpreted, Python can be super flexible and fast for testing ideas — you don’t need to compile the whole program before seeing it work.\n"
      ],
      "metadata": {
        "id": "_67KbVPm4MkP"
      }
    },
    {
      "cell_type": "markdown",
      "source": [
        "3. What are pre-defined keywords in Python\n",
        "-> In Python, **pre-defined keywords** are special words that are **reserved** by the language — you **can't** use them for anything else (like naming variables). They have a **specific meaning** and are part of Python’s **syntax rules**.\n",
        "\n",
        "Examples of Python keywords:\n",
        "- **`if`**, **`else`**, **`elif`** → used for conditions\n",
        "- **`for`**, **`while`** → used for loops\n",
        "- **`def`**, **`return`** → used to create and exit functions\n",
        "- **`class`** → used to define classes\n",
        "- **`import`** → used to bring in libraries\n",
        "- **`True`**, **`False`**, **`None`** → special constant values\n",
        "\n",
        "Python has about **35 keywords** (depending on the version you're using).\n",
        "\n",
        "Here’s a quick example:\n",
        "```python\n",
        "if True:\n",
        "    print(\"This is a keyword example.\")\n",
        "```\n",
        "Here, `if` and `True` are both keywords.\n",
        "\n",
        "If you tried to name a variable like this:\n",
        "```python\n",
        "def = 5\n",
        "```\n",
        "Python would throw an error, because `def` is already reserved for defining functions.\n"
      ],
      "metadata": {
        "id": "pseCL0oc7Dbh"
      }
    },
    {
      "cell_type": "markdown",
      "source": [
        "4. Can keywords be used as variable names\n",
        "->  No, **keywords cannot be used as variable names** in Python!\n",
        "\n",
        "Since keywords have **special meanings** in the language (like controlling flow, defining functions, classes, etc.), using them as variable names would **confuse** Python and cause a **syntax error**.\n",
        "\n",
        "For example:\n",
        "```python\n",
        "if = 10\n",
        "```\n",
        "This will give an error like:\n",
        "```\n",
        "SyntaxError: invalid syntax\n",
        "```\n",
        "\n",
        "You can, however, *slightly* change a keyword if you really want it as a name (like adding an underscore):\n",
        "```python\n",
        "if_ = 10\n",
        "print(if_)\n",
        "```\n",
        "This is allowed, but usually, it’s better to choose a more descriptive name!\n",
        "\n"
      ],
      "metadata": {
        "id": "tWAeGJQ671Er"
      }
    },
    {
      "cell_type": "markdown",
      "source": [],
      "metadata": {
        "id": "YApyJmLF65kZ"
      }
    },
    {
      "cell_type": "markdown",
      "source": [
        "5. What is mutability in Python\n",
        "->  In Python, **mutability** means whether or not an object’s **value can be changed after it’s created**.\n",
        "\n",
        "- **Mutable objects** ➔ You **can** change their contents without changing their identity (memory location).\n",
        "- **Immutable objects** ➔ You **cannot** change their contents once they're created. If you try, Python creates a **new object**.\n",
        "\n",
        "**Examples:**\n",
        "- **Mutable types:** `list`, `dict`, `set`\n",
        "- **Immutable types:** `int`, `float`, `str`, `tuple`\n",
        "\n",
        "---\n",
        " **Example of a mutable object (`list`):**\n",
        "```python\n",
        "my_list = [1, 2, 3]\n",
        "my_list[0] = 100\n",
        "print(my_list)  # Output: [100, 2, 3]\n",
        "```\n",
        "(We modified the first element. No problem!)\n",
        "\n",
        " **Example of an immutable object (`str`):**\n",
        "```python\n",
        "my_string = \"hello\"\n",
        "# my_string[0] = \"y\"  #  This will cause an error!\n",
        "\n",
        "# To change it, you have to create a new string:\n",
        "new_string = \"y\" + my_string[1:]\n",
        "print(new_string)  # Output: \"yello\"\n",
        "```\n",
        "\n",
        "---\n",
        "\n"
      ],
      "metadata": {
        "id": "GrMh00d--WIy"
      }
    },
    {
      "cell_type": "markdown",
      "source": [
        "6. Why are lists mutable, but tuples are immutable\n",
        "->\n",
        "\n",
        "- A **list** is **designed to be flexible**. It’s meant for situations where you might need to **add**, **remove**, or **change** elements at any time. So Python makes lists **mutable** — you can modify them easily.\n",
        "\n",
        "- A **tuple** is **designed to be fixed**. It’s meant to **protect data** from being changed accidentally. Once a tuple is created, it **should stay the same** — that's why Python makes tuples **immutable**.\n",
        "\n",
        "\n",
        "**Analogy:**  \n",
        "- **List** = like a **whiteboard** ➔ you can erase and rewrite on it.\n",
        "- **Tuple** = like a **printed photo** ➔ once printed, you can’t change it without making a new one.\n",
        "\n",
        "\n",
        "**Under the hood (tech side):**\n",
        "- Lists **store extra space** to allow changes (like appending new elements).\n",
        "- Tuples **store exactly what’s needed**, no extra, making them a little **faster and safer**.\n",
        "\n",
        "\n",
        "**Quick demo:**\n",
        "\n",
        "```python\n",
        "# List (mutable)\n",
        "my_list = [1, 2, 3]\n",
        "my_list.append(4)\n",
        "print(my_list)  # [1, 2, 3, 4]\n",
        "\n",
        "# Tuple (immutable)\n",
        "my_tuple = (1, 2, 3)\n",
        "# my_tuple[0] = 100  #  This would cause an error!\n",
        "```\n",
        "\n",
        "---\n"
      ],
      "metadata": {
        "id": "TEAHwKya4R1k"
      }
    },
    {
      "cell_type": "markdown",
      "source": [
        "7. What is the difference between “==” and “is” operators in Python\n",
        "-> Awesome question — **many people mix these up at first!** Let’s make it super clear:\n",
        "\n",
        "| Operator | Meaning | What it checks |\n",
        "|:---|:---|:---|\n",
        "| `==` | **Equality** | Checks if the **values** are the same |\n",
        "| `is` | **Identity** | Checks if they are the **same object** in memory |\n",
        "\n",
        "\n",
        " **Example using `==`:**\n",
        "```python\n",
        "a = [1, 2, 3]\n",
        "b = [1, 2, 3]\n",
        "\n",
        "print(a == b)  # True (because the contents are the same)\n",
        "```\n",
        "\n",
        " **example using `is`:**\n",
        "```python\n",
        "print(a is b)  # False (because they are different objects in memory)\n",
        "```\n",
        "\n",
        "Even though `a` and `b` have the **same contents**, they are **different objects**, so `is` returns `False`.\n",
        "\n",
        "\n",
        "**Bonus quickie:**\n",
        "```python\n",
        "c = a\n",
        "print(c is a)  # True (because c and a are literally the same object now)\n",
        "```\n",
        "\n",
        "\n",
        "**In short:**\n",
        "- Use **`==`** ➔ when you care if things *look the same*.\n",
        "- Use **`is`** ➔ when you care if things are *literally the same object*.\n",
        "\n"
      ],
      "metadata": {
        "id": "wyUpbnQ_4RsN"
      }
    },
    {
      "cell_type": "markdown",
      "source": [
        "8. What are logical operators in Python\n",
        "-> Logical operators in Python are used to **combine** or **modify** conditions — basically, they help you **make decisions** based on multiple true/false values.\n",
        "\n",
        "There are **three** main logical operators:\n",
        "\n",
        "| Operator | Meaning | Example |\n",
        "|:---|:---|:---|\n",
        "| `and` | True if **both** conditions are True | `(5 > 2) and (3 < 4)` → True |\n",
        "| `or` | True if **at least one** condition is True | `(5 > 2) or (3 > 10)` → True |\n",
        "| `not` | **Flips** True to False, and False to True | `not (5 > 2)` → False |\n",
        "\n",
        "\n",
        "\n",
        " **Example:**\n",
        "```python\n",
        "a = 10\n",
        "b = 5\n",
        "\n",
        "# and\n",
        "print(a > 0 and b > 0)  # True (both conditions are True)\n",
        "\n",
        "# or\n",
        "print(a > 0 or b < 0)   # True (only one condition is True)\n",
        "\n",
        "# not\n",
        "print(not (a < b))      # True (a < b is False, but not flips it)\n",
        "```\n",
        "\n",
        "\n",
        "**In plain English:**\n",
        "- `and` ➔ \"Both things must be true.\"\n",
        "- `or` ➔ \"At least one thing must be true.\"\n",
        "- `not` ➔ \"Flip the meaning.\"\n",
        "\n"
      ],
      "metadata": {
        "id": "ILs8id5wH1jn"
      }
    },
    {
      "cell_type": "markdown",
      "source": [
        "9.What is type casting in Python\n",
        "\n",
        "-> Type casting in Python means **changing the data type** of a value from one type to another manually.\n",
        "\n",
        "**For example:**\n",
        "- Turning an **integer into a string**\n",
        "- Turning a **string into a float**\n",
        "- And so on\n",
        "\n",
        "\n",
        "**Common type casting functions:**\n",
        "| Function | Converts to |\n",
        "|:---|:---|\n",
        "| `int()` | Integer |\n",
        "| `float()` | Floating-point number |\n",
        "| `str()` | String |\n",
        "| `bool()` | Boolean (True/False) |\n",
        "\n",
        "\n",
        " **Example of type casting:**\n",
        "```python\n",
        "x = \"123\"\n",
        "y = int(x)  # Casts string to integer\n",
        "print(y + 1)  # Output: 124\n",
        "```\n",
        "\n",
        " **Another example:**\n",
        "```python\n",
        "a = 5\n",
        "b = str(a)  # Casts integer to string\n",
        "print(b + \" apples\")  # Output: \"5 apples\"\n",
        "```\n",
        "\n",
        "\n",
        " **Why is type casting useful?**\n",
        "- Sometimes, **different types can’t work together** unless you convert them (like adding a number to a string).\n",
        "- Helps when you're getting **user input** (which always comes in as a string) and you need it to be a number.\n",
        "\n"
      ],
      "metadata": {
        "id": "envw1YHoIfGm"
      }
    },
    {
      "cell_type": "markdown",
      "source": [
        "10. What is the difference between implicit and explicit type casting\n",
        "->\n",
        "\n",
        "| Type of Casting | Meaning | Who does it? | Example |\n",
        "|:---|:---|:---|:---|\n",
        "| **Implicit Casting** | Python **automatically** changes the type for you | Python | `result = 5 + 2.5` (Python turns `5` into `5.0`) |\n",
        "| **Explicit Casting** | **You manually** change the type using functions like `int()`, `float()`, `str()` | Programmer (you) | `age = int(\"20\")` (string to int) |\n",
        "\n",
        "---\n",
        "\n",
        "**Implicit Casting Example (done by Python automatically):**\n",
        "```python\n",
        "a = 5       # int\n",
        "b = 2.5     # float\n",
        "result = a + b  # Python converts 5 into 5.0 automatically\n",
        "print(result)   # 7.5 (float)\n",
        "```\n",
        "\n",
        " **Explicit Casting Example (you control it):**\n",
        "```python\n",
        "x = \"123\"\n",
        "y = int(x)  # You are manually converting string to int\n",
        "print(y + 1)  # 124\n",
        "```\n",
        "**In short:**\n",
        "- **Implicit** ➔ Python is helping you behind the scenes.\n",
        "- **Explicit** ➔ You are telling Python exactly what to do.\n",
        "\n",
        "\n",
        "\n"
      ],
      "metadata": {
        "id": "PqiPZ5eEJm2n"
      }
    },
    {
      "cell_type": "markdown",
      "source": [
        "11.  What is the purpose of conditional statements in Python\n",
        "-> The purpose of **conditional statements** in Python is to let your program **make decisions** and **do different things** depending on certain conditions.\n",
        "\n",
        "In simple words:  \n",
        " **\"If this happens, do that. Otherwise, do something else.\"**\n",
        "\n",
        "Without conditionals, your program would just run the same way every time, no matter what — **conditional statements make it smart and flexible**!\n",
        "\n",
        "**Common conditional keywords in Python:**\n",
        "- `if`\n",
        "- `elif` (short for \"else if\")\n",
        "- `else`\n",
        "\n",
        " **Simple Example:**\n",
        "```python\n",
        "age = 18\n",
        "\n",
        "if age >= 18:\n",
        "    print(\"You can vote!\")\n",
        "else:\n",
        "    print(\"Sorry, you're too young to vote.\")\n",
        "```\n",
        "\n",
        "Here, the program **checks a condition** (`age >= 18`) and **decides** what message to print.\n",
        "\n",
        "\n",
        " **In short:**  \n",
        "Conditional statements help your code **think and choose** actions based on **different situations**.\n",
        "\n"
      ],
      "metadata": {
        "id": "yYpicWySKpIp"
      }
    },
    {
      "cell_type": "markdown",
      "source": [
        "12. How does the elif statement work\n",
        "->\n",
        "\n",
        "The **`elif`** statement in Python means \"**else if**\".  \n",
        "It lets you **check multiple conditions** **one after another** after an initial `if`.\n",
        "\n",
        "Here's the basic idea:\n",
        "- Python checks the `if` condition first.\n",
        "- If it’s **False**, it checks the first `elif`.\n",
        "- If that’s **False**, it checks the next `elif`, and so on.\n",
        "- If **none** of the `if` or `elif` conditions are True, it runs the `else` (if you have one).\n",
        "\n",
        "** Example:**\n",
        "```python\n",
        "score = 75\n",
        "\n",
        "if score >= 90:\n",
        "    print(\"Grade: A\")\n",
        "elif score >= 80:\n",
        "    print(\"Grade: B\")\n",
        "elif score >= 70:\n",
        "    print(\"Grade: C\")\n",
        "else:\n",
        "    print(\"Grade: F\")\n",
        "```\n",
        "\n",
        "- If `score` is 75, Python first checks `score >= 90` (nope).\n",
        "- Then it checks `score >= 80` (nope).\n",
        "- Then it checks `score >= 70` (yes!), so it prints `\"Grade: C\"`.\n",
        "- **It stops checking once it finds the first True condition.**\n",
        "\n",
        " **Key Points:**\n",
        "- You can have **many** `elif`s.\n",
        "- Only **one block** runs — the first match.\n",
        "- `else` is **optional** (it covers \"everything else\").\n",
        "\n"
      ],
      "metadata": {
        "id": "z5dF7O0KLfRB"
      }
    },
    {
      "cell_type": "markdown",
      "source": [
        "13. 8 What is the difference between for and while loops\n",
        "->\n",
        "\n",
        "| Loop Type | Purpose | When to use |\n",
        "|:---|:---|:---|\n",
        "| **`for` loop** | Repeats a block **a specific number of times** (like looping over a list, range, etc.) | When you **know** how many times you want to loop |\n",
        "| **`while` loop** | Repeats a block **as long as a condition is True** | When you **don't know** exactly how many times — you loop based on a condition |\n",
        "\n",
        "\n",
        "\n",
        " **\"for\" loop Example:**\n",
        "```python\n",
        "for i in range(5):\n",
        "    print(i)\n",
        "```\n",
        "- This prints 0, 1, 2, 3, 4.\n",
        "- It loops exactly **5 times**.\n",
        "\n",
        "\n",
        "\n",
        " **\"while\" loop Example:**\n",
        "```python\n",
        "count = 0\n",
        "while count < 5:\n",
        "    print(count)\n",
        "    count += 1\n",
        "```\n",
        "- It keeps looping **until** `count` is no longer less than 5.\n",
        "\n",
        "**In short:**\n",
        "- Use **`for`** when looping **over something** (like numbers, a list, a string, etc.).\n",
        "- Use **`while`** when looping **until something happens** (like waiting for user input or a game to end).\n",
        "\n"
      ],
      "metadata": {
        "id": "L1_GdF4AMxFL"
      }
    },
    {
      "cell_type": "markdown",
      "source": [
        "14.  Describe a scenario where a while loop is more suitable than a for loop.\n",
        "->\n",
        "\n",
        "**Scenario:**  \n",
        "Imagine you are making a **password checker** that keeps asking the user to enter the correct password until they get it right.\n",
        "\n",
        "In this case, **you don’t know** how many times the user will need — maybe 1 try, maybe 10 tries — so you use a **`while` loop**!\n",
        "\n",
        "**Example:**\n",
        "```python\n",
        "correct_password = \"python123\"\n",
        "user_input = \"\"\n",
        "\n",
        "while user_input != correct_password:\n",
        "    user_input = input(\"Enter the password: \")\n",
        "\n",
        "print(\"Access granted!\")\n",
        "```\n",
        "- The loop **keeps running** until the user enters the right password.\n",
        "- You **couldn't** use a `for` loop easily here because **you don't know** how many tries it will take.\n",
        " **In short:**  \n",
        "Use a **`while` loop** when you need to **keep checking** a condition **over and over until it changes** — and you don’t know exactly when that will happen.\n"
      ],
      "metadata": {
        "id": "rEhrU9tKNloh"
      }
    },
    {
      "cell_type": "markdown",
      "source": [
        "#practical question\n"
      ],
      "metadata": {
        "id": "2rKRZ1HUPfU2"
      }
    },
    {
      "cell_type": "markdown",
      "source": [
        "1.  Write a Python program to print \"Hello, World!\"\n",
        "->\n",
        "\n"
      ],
      "metadata": {
        "id": "4LNys08yP-Co"
      }
    },
    {
      "cell_type": "code",
      "source": [
        "\n",
        "print(\"Hello, World!\")\n"
      ],
      "metadata": {
        "id": "ls1JxWQPSSAG"
      },
      "execution_count": null,
      "outputs": []
    },
    {
      "cell_type": "markdown",
      "source": [
        "2. Write a Python program that displays your name and age\n",
        "->"
      ],
      "metadata": {
        "id": "a1wCSbwvRObw"
      }
    },
    {
      "cell_type": "code",
      "source": [
        "# Simple program to display name and age\n",
        "\n",
        "# Variables\n",
        "name = \"ajeet\"   # You can replace this with your name\n",
        "age = 25            # And replace this with your age\n",
        "\n",
        "# Output\n",
        "print(\"My name is\", name)\n",
        "print(\"I am\", age, \"years old.\")\n"
      ],
      "metadata": {
        "id": "MNQ5lqcsQyH9",
        "colab": {
          "base_uri": "https://localhost:8080/"
        },
        "outputId": "8607fe29-66b3-4943-9acc-78155234360c"
      },
      "execution_count": 3,
      "outputs": [
        {
          "output_type": "stream",
          "name": "stdout",
          "text": [
            "My name is ajeet\n",
            "I am 25 years old.\n"
          ]
        }
      ]
    },
    {
      "cell_type": "markdown",
      "source": [
        "3.Write code to print all the pre-defined keywords in Python using the keyword library"
      ],
      "metadata": {
        "id": "655L5A4XWcf8"
      }
    },
    {
      "cell_type": "code",
      "source": [
        "# Import the keyword module\n",
        "import keyword\n",
        "\n",
        "# Print all the Python keywords\n",
        "print(\"List of Python Keywords:\")\n",
        "for kw in keyword.kwlist:\n",
        "    print(kw)\n"
      ],
      "metadata": {
        "id": "Xw_4FJeAWbFc"
      },
      "execution_count": null,
      "outputs": []
    },
    {
      "cell_type": "markdown",
      "source": [],
      "metadata": {
        "id": "bTriv8PQUjUU"
      }
    },
    {
      "cell_type": "markdown",
      "source": [
        "4.Write a program that checks if a given word is a Python keyword."
      ],
      "metadata": {
        "id": "t6w7QqweVtP3"
      }
    },
    {
      "cell_type": "code",
      "source": [
        "# Import the keyword module\n",
        "import keyword\n",
        "\n",
        "# Ask the user to input a word\n",
        "word = input(\"Enter a word: \")\n",
        "\n",
        "# Check if the word is a Python keyword\n",
        "if keyword.iskeyword(word):\n",
        "    print(f\"'{word}' is a Python keyword.\")\n",
        "else:\n",
        "    print(f\"'{word}' is NOT a Python keyword.\")\n"
      ],
      "metadata": {
        "id": "-djUyZsHVrJA"
      },
      "execution_count": null,
      "outputs": []
    },
    {
      "cell_type": "markdown",
      "source": [
        "5. . Create a list and tuple in Python, and demonstrate how attempting to change an element works differently\n",
        "for each."
      ],
      "metadata": {
        "id": "xQk0xTzSW6Fl"
      }
    },
    {
      "cell_type": "code",
      "source": [
        "# Creating a list\n",
        "my_list = [10, 20, 30, 40]\n",
        "\n",
        "# Changing the second element\n",
        "my_list[1] = 200\n",
        "\n",
        "print(\"Modified List:\", my_list)\n"
      ],
      "metadata": {
        "id": "vTSSVUCHW5ri"
      },
      "execution_count": null,
      "outputs": []
    },
    {
      "cell_type": "markdown",
      "source": [
        "6. Write a function to demonstrate the behavior of mutable and immutable arguments."
      ],
      "metadata": {
        "id": "9ALDQIsqXQ_d"
      }
    },
    {
      "cell_type": "code",
      "source": [
        "# Function to modify arguments\n",
        "def modify_data(a_list, a_number):\n",
        "    a_list.append(100)   # Modifying the list\n",
        "    a_number += 10       # Modifying the number\n",
        "\n",
        "# Create a list (mutable) and a number (immutable)\n",
        "my_list = [1, 2, 3]\n",
        "my_number = 5\n",
        "\n",
        "# Call the function\n",
        "modify_data(my_list, my_number)\n",
        "\n",
        "# Print after modification\n",
        "print(\"List after function call:\", my_list)    # List will change\n",
        "print(\"Number after function call:\", my_number)  # Number will NOT change\n",
        "\n"
      ],
      "metadata": {
        "id": "9NQr96FKXQe5"
      },
      "execution_count": null,
      "outputs": []
    },
    {
      "cell_type": "markdown",
      "source": [
        "7.  Write a program that performs basic arithmetic operations on two user-input numbers."
      ],
      "metadata": {
        "id": "qjUrYIeNXseI"
      }
    },
    {
      "cell_type": "code",
      "source": [
        "# Program to perform basic arithmetic operations\n",
        "\n",
        "# Get input from the user\n",
        "num1 = float(input(\"Enter the first number: \"))\n",
        "num2 = float(input(\"Enter the second number: \"))\n",
        "\n",
        "# Perform operations\n",
        "addition = num1 + num2\n",
        "subtraction = num1 - num2\n",
        "multiplication = num1 * num2\n",
        "\n",
        "# Check for division by zero\n",
        "if num2 != 0:\n",
        "    division = num1 / num2\n",
        "else:\n",
        "    division = \"Undefined (cannot divide by zero)\"\n",
        "\n",
        "# Display the results\n",
        "print(\"\\nResults:\")\n",
        "print(\"Addition:\", addition)\n",
        "print(\"Subtraction:\", subtraction)\n",
        "print(\"Multiplication:\", multiplication)\n",
        "print(\"Division:\", division)\n"
      ],
      "metadata": {
        "id": "6-Adl5G5XsK9"
      },
      "execution_count": null,
      "outputs": []
    },
    {
      "cell_type": "markdown",
      "source": [
        "8.Write a program to demonstrate the use of logical operators."
      ],
      "metadata": {
        "id": "-KAeAxrsYF-_"
      }
    },
    {
      "cell_type": "code",
      "source": [
        "# Program to demonstrate logical operators\n",
        "\n",
        "# Take two numbers as input\n",
        "num1 = int(input(\"Enter the first number: \"))\n",
        "num2 = int(input(\"Enter the second number: \"))\n",
        "\n",
        "# Demonstrate 'and' operator\n",
        "if num1 > 0 and num2 > 0:\n",
        "    print(\"Both numbers are positive.\")\n",
        "\n",
        "# Demonstrate 'or' operator\n",
        "if num1 > 0 or num2 > 0:\n",
        "    print(\"At least one number is positive.\")\n",
        "\n",
        "# Demonstrate 'not' operator\n",
        "if not (num1 < 0 and num2 < 0):\n",
        "    print(\"It is not true that both numbers are negative.\")\n"
      ],
      "metadata": {
        "id": "TucEdvE4YFx5"
      },
      "execution_count": null,
      "outputs": []
    },
    {
      "cell_type": "markdown",
      "source": [
        "9.  Write a Python program to convert user input from string to integer, float, and boolean types."
      ],
      "metadata": {
        "id": "hFvJJpO6YiMf"
      }
    },
    {
      "cell_type": "code",
      "source": [
        "# Program to convert user input to int, float, and bool\n",
        "\n",
        "# Take input from the user\n",
        "user_input = input(\"Enter something: \")\n",
        "\n",
        "# Convert to integer\n",
        "try:\n",
        "    int_value = int(user_input)\n",
        "    print(\"Integer conversion:\", int_value)\n",
        "except ValueError:\n",
        "    print(\"Cannot convert to Integer.\")\n",
        "\n",
        "# Convert to float\n",
        "try:\n",
        "    float_value = float(user_input)\n",
        "    print(\"Float conversion:\", float_value)\n",
        "except ValueError:\n",
        "    print(\"Cannot convert\n"
      ],
      "metadata": {
        "id": "johX9GXNYiBU"
      },
      "execution_count": null,
      "outputs": []
    },
    {
      "cell_type": "markdown",
      "source": [
        "10.  Write code to demonstrate type casting with list elements."
      ],
      "metadata": {
        "id": "tPW_yEBwYsXI"
      }
    },
    {
      "cell_type": "code",
      "source": [
        "# List with string elements\n",
        "str_list = [\"1\", \"2\", \"3\", \"4\", \"5\"]\n",
        "\n",
        "# Convert all elements to integers\n",
        "int_list = [int(x) for x in str_list]\n",
        "\n",
        "# Print results\n",
        "print(\"Original list (strings):\", str_list)\n",
        "print(\"Converted list (integers):\", int_list)\n"
      ],
      "metadata": {
        "id": "bGps96A2YsDt"
      },
      "execution_count": null,
      "outputs": []
    },
    {
      "cell_type": "markdown",
      "source": [
        "11. Write a program that checks if a number is positive, negative, or zero"
      ],
      "metadata": {
        "id": "-vURTOXDY7Sx"
      }
    },
    {
      "cell_type": "code",
      "source": [
        "\n",
        "\n",
        "# Take input from the user\n",
        "num = float(input(\"Enter a number: \"))\n",
        "\n",
        "# Check conditions\n",
        "if num > 0:\n",
        "    print(\"The number is positive.\")\n",
        "elif num < 0:\n",
        "    print(\"The number is negative.\")\n",
        "else:\n",
        "    print(\"The number is zero.\")\n"
      ],
      "metadata": {
        "id": "P2kOFgvbY6_R"
      },
      "execution_count": null,
      "outputs": []
    },
    {
      "cell_type": "markdown",
      "source": [
        "12. Write a for loop to print numbers from 1 to 10."
      ],
      "metadata": {
        "id": "mVyuUgpsZMQd"
      }
    },
    {
      "cell_type": "code",
      "source": [
        "\n",
        "for num in range(1, 11):\n",
        "    print(num)\n"
      ],
      "metadata": {
        "id": "MgRfH3ckZL99"
      },
      "execution_count": null,
      "outputs": []
    },
    {
      "cell_type": "markdown",
      "source": [
        "13. Write a Python program to find the sum of all even numbers between 1 and 50"
      ],
      "metadata": {
        "id": "K7Je_d5bZfN1"
      }
    },
    {
      "cell_type": "code",
      "source": [
        "\n",
        "\n",
        "# Initialize sum variable\n",
        "even_sum = 0\n",
        "\n",
        "# Loop through numbers from 1 to 50\n",
        "for num in range(1, 51):\n",
        "    if num % 2 == 0:  # Check if the number is even\n",
        "        even_sum += num  # Add to sum\n",
        "\n",
        "# Print the result\n",
        "print(\"The sum of all even numbers between 1 and 50 is:\", even_sum)\n"
      ],
      "metadata": {
        "id": "uodDKMI8Zex6"
      },
      "execution_count": null,
      "outputs": []
    },
    {
      "cell_type": "markdown",
      "source": [
        "14.Write a program to reverse a string using a while loop."
      ],
      "metadata": {
        "id": "oJqgZZStZ-us"
      }
    },
    {
      "cell_type": "code",
      "source": [
        "# Program to reverse a string using a while loop\n",
        "\n",
        "# Take input from the user\n",
        "input_string = input(\"Enter a string: \")\n",
        "\n",
        "# Initialize the reversed string\n",
        "reversed_string = \"\"\n",
        "\n",
        "# Set the index to the last character of the string\n",
        "index = len(input_string) - 1\n",
        "\n",
        "# Use a while loop to build the reversed string\n",
        "while index >= 0:\n",
        "    reversed_string += input_string[index]  # Add character at the current index\n",
        "    index -= 1  # Move to the previous character\n",
        "\n",
        "# Print the reversed string\n",
        "print(\"Reversed string:\", reversed_string)\n"
      ],
      "metadata": {
        "id": "nh-KDGhYZ-TV"
      },
      "execution_count": null,
      "outputs": []
    },
    {
      "cell_type": "markdown",
      "source": [
        "15. Write a Python program to calculate the factorial of a number provided by the user using a while loop"
      ],
      "metadata": {
        "id": "7Ycw7LwoaPNA"
      }
    },
    {
      "cell_type": "code",
      "source": [
        "# Program to calculate the factorial of a number using a while loop\n",
        "\n",
        "# Take input from the user\n",
        "num = int(input(\"Enter a number: \"))\n",
        "\n",
        "# Initialize factorial to 1 (since factorial of 0 is 1)\n",
        "factorial = 1\n",
        "\n",
        "# Check if the number is negative, zero, or positive\n",
        "if num < 0:\n",
        "    print(\"Factorial does not exist for negative numbers.\")\n",
        "elif num == 0:\n",
        "    print(\"The factorial of 0 is 1.\")\n",
        "else:\n",
        "    # Use a while loop to calculate factorial\n",
        "    while num > 1:\n",
        "        factorial *= num\n",
        "        num -= 1\n",
        "\n",
        "    # Print the result\n",
        "    print(\"The factorial is:\", factorial)\n"
      ],
      "metadata": {
        "id": "Rcln6oOxaOzv"
      },
      "execution_count": null,
      "outputs": []
    }
  ]
}